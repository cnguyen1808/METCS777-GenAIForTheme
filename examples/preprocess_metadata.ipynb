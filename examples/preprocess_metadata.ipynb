{
 "cells": [
  {
   "cell_type": "code",
   "execution_count": 1,
   "metadata": {},
   "outputs": [],
   "source": [
    "from pandas import read_csv\n",
    "import os"
   ]
  },
  {
   "cell_type": "markdown",
   "metadata": {},
   "source": [
    "## 1. Process Images and upload to S3"
   ]
  },
  {
   "cell_type": "code",
   "execution_count": 5,
   "metadata": {},
   "outputs": [],
   "source": [
    "def get_image_caption(dir=\"raw_data\", src_nm=None):\n",
    "    \"\"\"\n",
    "    This method get image_id/file_name and caption_text from metadata files\n",
    "    \"\"\"\n",
    "    pass\n",
    "\n",
    "\n",
    "def get_image_caption_translation(src_lang: str = \"cn\", targ_lang: str = \"en\"):\n",
    "    \"\"\"\n",
    "    This method call a Translation service to translate captions written in another language\n",
    "    to English\n",
    "    \"\"\"\n",
    "    pass"
   ]
  },
  {
   "cell_type": "code",
   "execution_count": 7,
   "metadata": {},
   "outputs": [],
   "source": [
    "images = [image_nm for image_nm in os.listdir(\"../raw_data/harvard/paintings\")\n",
    "          if image_nm.endswith(\"jpg\")]\n",
    "metadata_file = [file for file in os.listdir(\"../raw_data/harvard\") if file.endswith(\"csv\")][0]\n",
    "df = read_csv(os.path.join(\"../raw_data\", \"harvard\", metadata_file), delimiter=\",\")"
   ]
  },
  {
   "cell_type": "code",
   "execution_count": 9,
   "metadata": {},
   "outputs": [
    {
     "name": "stdout",
     "output_type": "stream",
     "text": [
      "<class 'pandas.core.frame.DataFrame'>\n",
      "RangeIndex: 93 entries, 0 to 92\n",
      "Data columns (total 62 columns):\n",
      " #   Column                        Non-Null Count  Dtype  \n",
      "---  ------                        --------------  -----  \n",
      " 0   copyright                     1 non-null      object \n",
      " 1   contextualtextcount           93 non-null     int64  \n",
      " 2   creditline                    93 non-null     object \n",
      " 3   accesslevel                   93 non-null     int64  \n",
      " 4   dateoflastpageview            93 non-null     object \n",
      " 5   classificationid              93 non-null     int64  \n",
      " 6   division                      93 non-null     object \n",
      " 7   markscount                    93 non-null     int64  \n",
      " 8   publicationcount              93 non-null     int64  \n",
      " 9   totaluniquepageviews          93 non-null     int64  \n",
      " 10  contact                       93 non-null     object \n",
      " 11  colorcount                    93 non-null     int64  \n",
      " 12  rank                          93 non-null     int64  \n",
      " 13  id                            93 non-null     int64  \n",
      " 14  state                         0 non-null      float64\n",
      " 15  verificationleveldescription  93 non-null     object \n",
      " 16  period                        87 non-null     object \n",
      " 17  images                        93 non-null     object \n",
      " 18  worktypes                     93 non-null     object \n",
      " 19  imagecount                    93 non-null     int64  \n",
      " 20  totalpageviews                93 non-null     int64  \n",
      " 21  accessionyear                 92 non-null     float64\n",
      " 22  standardreferencenumber       28 non-null     object \n",
      " 23  signed                        34 non-null     object \n",
      " 24  classification                93 non-null     object \n",
      " 25  relatedcount                  93 non-null     int64  \n",
      " 26  verificationlevel             93 non-null     int64  \n",
      " 27  primaryimageurl               93 non-null     object \n",
      " 28  titlescount                   93 non-null     int64  \n",
      " 29  peoplecount                   93 non-null     int64  \n",
      " 30  style                         2 non-null      object \n",
      " 31  lastupdate                    93 non-null     object \n",
      " 32  commentary                    0 non-null      float64\n",
      " 33  periodid                      87 non-null     float64\n",
      " 34  technique                     1 non-null      object \n",
      " 35  edition                       1 non-null      object \n",
      " 36  description                   2 non-null      object \n",
      " 37  medium                        93 non-null     object \n",
      " 38  lendingpermissionlevel        93 non-null     int64  \n",
      " 39  title                         93 non-null     object \n",
      " 40  accessionmethod               92 non-null     object \n",
      " 41  colors                        93 non-null     object \n",
      " 42  provenance                    36 non-null     object \n",
      " 43  groupcount                    93 non-null     int64  \n",
      " 44  dated                         76 non-null     object \n",
      " 45  department                    93 non-null     object \n",
      " 46  dateend                       93 non-null     int64  \n",
      " 47  people                        61 non-null     object \n",
      " 48  url                           93 non-null     object \n",
      " 49  dateoffirstpageview           93 non-null     object \n",
      " 50  century                       73 non-null     object \n",
      " 51  objectnumber                  93 non-null     object \n",
      " 52  labeltext                     2 non-null      object \n",
      " 53  datebegin                     93 non-null     int64  \n",
      " 54  culture                       93 non-null     object \n",
      " 55  exhibitioncount               93 non-null     int64  \n",
      " 56  imagepermissionlevel          93 non-null     int64  \n",
      " 57  mediacount                    93 non-null     int64  \n",
      " 58  objectid                      93 non-null     int64  \n",
      " 59  techniqueid                   1 non-null      float64\n",
      " 60  dimensions                    90 non-null     object \n",
      " 61  seeAlso                       93 non-null     object \n",
      "dtypes: float64(5), int64(23), object(34)\n",
      "memory usage: 45.2+ KB\n"
     ]
    }
   ],
   "source": [
    "df.info()"
   ]
  },
  {
   "cell_type": "code",
   "execution_count": 13,
   "metadata": {},
   "outputs": [],
   "source": [
    "use_cols = [\"id\", \"title\", \"period\"]\n",
    "df[\"caption\"] = df[[\"title\", \"period\"]].apply(lambda x: f\"{x.title} completed in {x.period}\", axis=1)\n",
    "df[\"file_name\"] = df.id.apply(lambda x: f\"{x}.jpg\")"
   ]
  },
  {
   "cell_type": "code",
   "execution_count": null,
   "metadata": {},
   "outputs": [],
   "source": [
    "df.head()"
   ]
  },
  {
   "cell_type": "markdown",
   "metadata": {},
   "source": [
    "### Remove Imgs without metadata from location"
   ]
  },
  {
   "cell_type": "code",
   "execution_count": 31,
   "metadata": {},
   "outputs": [],
   "source": [
    "images_no_metadata = [img for img in images if img not in df.file_name.values]\n",
    "for img in images_no_metadata:\n",
    "    path = os.path.join(\"../raw_data/\", \"harvard\", \"paintings\", img)\n",
    "    os.remove(path)"
   ]
  },
  {
   "cell_type": "code",
   "execution_count": 35,
   "metadata": {},
   "outputs": [],
   "source": [
    "df[[\"file_name\", \"caption\"]].to_csv(os.path.join(\"../raw_data\", \"harvard\", \"paintings\", \"metadata.csv\"), index=False)"
   ]
  },
  {
   "cell_type": "markdown",
   "metadata": {},
   "source": [
    "## Connect and upload to S3"
   ]
  },
  {
   "cell_type": "code",
   "execution_count": null,
   "metadata": {},
   "outputs": [],
   "source": [
    "import boto3\n",
    "client = boto3.client('s3')\n",
    "client.list_buckets()"
   ]
  }
 ],
 "metadata": {
  "kernelspec": {
   "display_name": ".venv",
   "language": "python",
   "name": "python3"
  },
  "language_info": {
   "codemirror_mode": {
    "name": "ipython",
    "version": 3
   },
   "file_extension": ".py",
   "mimetype": "text/x-python",
   "name": "python",
   "nbconvert_exporter": "python",
   "pygments_lexer": "ipython3",
   "version": "3.10.8"
  }
 },
 "nbformat": 4,
 "nbformat_minor": 2
}
